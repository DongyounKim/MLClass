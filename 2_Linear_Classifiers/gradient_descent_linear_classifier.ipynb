{
 "cells": [
  {
   "cell_type": "code",
   "execution_count": 1,
   "metadata": {},
   "outputs": [],
   "source": [
    "from hw2 import generate_data\n",
    "import numpy "
   ]
  },
  {
   "cell_type": "code",
   "execution_count": 2,
   "metadata": {},
   "outputs": [],
   "source": [
    "class1_paras = {'mx':1,'my':2, 'ux':0.1, 'uy':1, 'y':1, 'N':20}\n",
    "class2_paras = {'mx':2,'my':4, 'ux':.1, 'uy':1, 'y':-1, 'N':50}\n",
    "X, y = generate_data(class1_paras, class2_paras, seed=10)"
   ]
  },
  {
   "cell_type": "code",
   "execution_count": 3,
   "metadata": {},
   "outputs": [
    {
     "data": {
      "text/plain": [
       "-1.0"
      ]
     },
     "execution_count": 3,
     "metadata": {},
     "output_type": "execute_result"
    }
   ],
   "source": [
    "min(y)"
   ]
  },
  {
   "cell_type": "code",
   "execution_count": 4,
   "metadata": {},
   "outputs": [],
   "source": [
    "import matplotlib.pyplot"
   ]
  },
  {
   "cell_type": "code",
   "execution_count": 5,
   "metadata": {},
   "outputs": [
    {
     "data": {
      "text/plain": [
       "[<matplotlib.lines.Line2D at 0x7f8442211630>]"
      ]
     },
     "execution_count": 5,
     "metadata": {},
     "output_type": "execute_result"
    },
    {
     "data": {
      "image/png": "[encoded data removed]",
      "text/plain": [
       "<Figure size 640x480 with 1 Axes>"
      ]
     },
     "metadata": {},
     "output_type": "display_data"
    }
   ],
   "source": [
    "matplotlib.pyplot.plot(X[y==1,0], X[y==1,1], 'ro')\n",
    "matplotlib.pyplot.plot(X[y==-1,0], X[y==-1,1], 'bo')"
   ]
  },
  {
   "cell_type": "code",
   "execution_count": 6,
   "metadata": {},
   "outputs": [],
   "source": [
    "def compute_gradient(X, y, w):\n",
    "    \"\"\"\n",
    "    Compute the gradient of the MSE loss function. \n",
    "\n",
    "    X: N x D numpy array, each row is a sample, not augmented\n",
    "    y: 1-D numpy array, length N, labels for N samples \n",
    "    w: 1-D numpy array, length D+1, the last element of which is the bias term\n",
    "\n",
    "    \"\"\"\n",
    "    N = X.shape[0]    \n",
    "    X_augmented = numpy.hstack((X, numpy.ones((N,1)) )) # augment\n",
    "    A = numpy.matmul(X_augmented, w) - y  # this results in a 1-D array, not a column vector\n",
    "    gradient = X_augmented * A[:, numpy.newaxis]\n",
    "    # https://stackoverflow.com/questions/5795700\n",
    "    gradient = numpy.sum(gradient, axis=0)\n",
    "     \n",
    "    return gradient "
   ]
  },
  {
   "cell_type": "code",
   "execution_count": 7,
   "metadata": {},
   "outputs": [],
   "source": [
    "from hw2_solution import plot_data_hyperplane"
   ]
  },
  {
   "cell_type": "code",
   "execution_count": 20,
   "metadata": {},
   "outputs": [],
   "source": [
    "# w = numpy.random.rand(3)\n",
    "w = [0.1, 0.2, 0.3]\n",
    "for _ in range(300):\n",
    "    gradient = compute_gradient(X, y, w)\n",
    "    w = w - 0.001 * gradient\n",
    "    plot_data_hyperplane(X, y, w, f\"learning_visual/learn_{str(_).zfill(3)}.png\")"
   ]
  },
  {
   "cell_type": "code",
   "execution_count": null,
   "metadata": {},
   "outputs": [],
   "source": []
  },
  {
   "cell_type": "code",
   "execution_count": null,
   "metadata": {},
   "outputs": [],
   "source": []
  },
  {
   "cell_type": "code",
   "execution_count": null,
   "metadata": {},
   "outputs": [],
   "source": []
  },
  {
   "cell_type": "markdown",
   "metadata": {},
   "source": []
  }
 ],
 "metadata": {
  "kernelspec": {
   "display_name": "Python 3",
   "language": "python",
   "name": "python3"
  },
  "language_info": {
   "codemirror_mode": {
    "name": "ipython",
    "version": 3
   },
   "file_extension": ".py",
   "mimetype": "text/x-python",
   "name": "python",
   "nbconvert_exporter": "python",
   "pygments_lexer": "ipython3",
   "version": "3.10.6"
  },
  "orig_nbformat": 4,
  "vscode": {
   "interpreter": {
    "hash": "916dbcbb3f70747c44a77c7bcd40155683ae19c65e1c03b4aa3499c5328201f1"
   }
  }
 },
 "nbformat": 4,
 "nbformat_minor": 2
}
