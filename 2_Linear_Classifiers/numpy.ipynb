{
 "cells": [
  {
   "attachments": {},
   "cell_type": "markdown",
   "metadata": {},
   "source": [
    "# An introduction to Numpy\n",
    "\n",
    "Copyright (C) 2023, Forrest Sheng Bao\n",
    "\n",
    "Numpy is a Python library that provides data structure and operation support for matrix-like data structures. It allows numerical computation in Python easier: partially allowing programmers to write more concise code. \n",
    "\n",
    "## n-D Arrays\n",
    "An n-D array is basically a Python list. The type is `numpy.ndarray` defined in the `numpy` module. A `numpy.ndarray` object can be instantiated by simply passing a Python list to it. \n",
    "\n",
    "n-D means the dimension can be any integer `n`. "
   ]
  },
  {
   "cell_type": "code",
   "execution_count": 1,
   "metadata": {},
   "outputs": [],
   "source": [
    "import numpy"
   ]
  },
  {
   "cell_type": "code",
   "execution_count": 2,
   "metadata": {},
   "outputs": [
    {
     "name": "stdout",
     "output_type": "stream",
     "text": [
      "[[1 2 3]\n",
      " [4 5 6]\n",
      " [7 8 9]]\n",
      "<class 'numpy.ndarray'>\n",
      "(3, 3)\n",
      "int64\n"
     ]
    }
   ],
   "source": [
    "a_2d_list = [[1, 2, 3], [4, 5, 6], [7, 8, 9]]\n",
    "a_2d_array = numpy.array(a_2d_list)\n",
    "print(a_2d_array)\n",
    "print(type(a_2d_array))\n",
    "print(a_2d_array.shape)\n",
    "print(a_2d_array.dtype)"
   ]
  },
  {
   "attachments": {},
   "cell_type": "markdown",
   "metadata": {},
   "source": [
    "`shape` and `dtype` are very important attributes of a `numpy.ndarray`. `shape` tells the size of the array on each dimension. `dtype` tells the type of all elements. "
   ]
  },
  {
   "attachments": {},
   "cell_type": "markdown",
   "metadata": {},
   "source": [
    "\n",
    "But unlike a Python list which can have inequal number and/or heterogenous types of element, it is not recommended to do so for `numpy.ndarray`: "
   ]
  },
  {
   "cell_type": "code",
   "execution_count": 3,
   "metadata": {},
   "outputs": [
    {
     "name": "stderr",
     "output_type": "stream",
     "text": [
      "/tmp/ipykernel_543136/3888878709.py:2: VisibleDeprecationWarning: Creating an ndarray from ragged nested sequences (which is a list-or-tuple of lists-or-tuples-or ndarrays with different lengths or shapes) is deprecated. If you meant to do this, you must specify 'dtype=object' when creating the ndarray.\n",
      "  a_2d_array = numpy.array(a_2d_list)\n"
     ]
    }
   ],
   "source": [
    "a_2d_list = [[1, 2, 3], [4, 5]]\n",
    "a_2d_array = numpy.array(a_2d_list)"
   ]
  },
  {
   "cell_type": "code",
   "execution_count": 4,
   "metadata": {},
   "outputs": [
    {
     "name": "stdout",
     "output_type": "stream",
     "text": [
      "object\n",
      "[list([1, 2, 3]) list([4, 5])]\n"
     ]
    }
   ],
   "source": [
    "print(a_2d_array.dtype)\n",
    "print (a_2d_array)"
   ]
  },
  {
   "attachments": {},
   "cell_type": "markdown",
   "metadata": {},
   "source": [
    "You get an array whose elements are Python `list`s. "
   ]
  },
  {
   "attachments": {},
   "cell_type": "markdown",
   "metadata": {},
   "source": [
    "## Indexing and slicing of `numpy.ndarray`"
   ]
  },
  {
   "cell_type": "code",
   "execution_count": 5,
   "metadata": {},
   "outputs": [
    {
     "name": "stdout",
     "output_type": "stream",
     "text": [
      "[1 2 3 4 5]\n",
      "8\n",
      "[[ 3  4]\n",
      " [ 8  9]\n",
      " [13 14]]\n",
      "[[ 8  9]\n",
      " [13 14]]\n"
     ]
    }
   ],
   "source": [
    "a_2d_array = numpy.array(\n",
    "    [\n",
    "        [1, 2, 3, 4, 5], \n",
    "        [6, 7, 8, 9, 10], \n",
    "        [11, 12, 13, 14, 15]\n",
    "    ]\n",
    ")\n",
    "\n",
    "print(a_2d_array[0]) # row 0\n",
    "print(a_2d_array[1][2]) # row 1, column 2\n",
    "print(a_2d_array[:, 2:4]) # all rows, columns 2 and 3, resulting in a sub-array\n",
    "print(a_2d_array[1:3, 2:4]) # rows 1 and 2, columns 2 and 3, resulting in a sub-array"
   ]
  },
  {
   "attachments": {},
   "cell_type": "markdown",
   "metadata": {},
   "source": [
    "`1:3` means a range from 1 to 2 (3-1). Slicing using `:` is called advanced slicing. Definitely read [this](https://numpy.org/doc/stable/user/basics.indexing.html#combining-advanced-and-basic-indexing)"
   ]
  },
  {
   "cell_type": "code",
   "execution_count": 25,
   "metadata": {},
   "outputs": [
    {
     "name": "stdout",
     "output_type": "stream",
     "text": [
      "[1 3 6 8]\n",
      "[ 2 14]\n"
     ]
    }
   ],
   "source": [
    "# slicing using specific indices\n",
    "a_1d_array = numpy.array([1, 2, 3, 4, 5, 6, 7, 8, 9, 10])\n",
    "print (a_1d_array[[0, 2, 5, 7]]) # elements 0, 2, 5, 7\n",
    "print (a_2d_array[[0,2], [1,3]]) # row 0, column 1 and row 2, column 3"
   ]
  },
  {
   "attachments": {},
   "cell_type": "markdown",
   "metadata": {},
   "source": [
    "`numpy.newaxis` and its alias (not required to master in this class)"
   ]
  },
  {
   "cell_type": "code",
   "execution_count": 6,
   "metadata": {},
   "outputs": [
    {
     "data": {
      "text/plain": [
       "array([[[ 1,  2,  3,  4,  5]],\n",
       "\n",
       "       [[ 6,  7,  8,  9, 10]],\n",
       "\n",
       "       [[11, 12, 13, 14, 15]]])"
      ]
     },
     "execution_count": 6,
     "metadata": {},
     "output_type": "execute_result"
    }
   ],
   "source": [
    "a_2d_array[:, None]"
   ]
  },
  {
   "attachments": {},
   "cell_type": "markdown",
   "metadata": {},
   "source": [
    "## The Axis system\n",
    "\n",
    "An axis corresponds to one level of indexing. In `a_2d_array[1][2]`, `1` is the value of axis 0, and `2` is the value of axis 1. When indexing, axis 0 is the first index, axis 1 is the second index, etc. Please definitely read [this](https://numpy.org/doc/stable/glossary.html#term-axis) \n",
    "\n",
    "### an operation along an axis"
   ]
  },
  {
   "cell_type": "code",
   "execution_count": 7,
   "metadata": {},
   "outputs": [
    {
     "name": "stdout",
     "output_type": "stream",
     "text": [
      "[11 12 13 14 15]\n",
      "[11, 12, 13, 14, 15]\n",
      "[ 5 10 15]\n"
     ]
    }
   ],
   "source": [
    "print ( numpy.max(a_2d_array, axis=0) ) # max of each column\n",
    "\n",
    "# This is equivalent to: \n",
    "print ( [ max(a_2d_array[:, column_id]) for column_id in range(a_2d_array.shape[1])])\n",
    "\n",
    "\n",
    "# what is shape[1]? the dimension along axis 1, which is the number of columns\n",
    "\n",
    "print ( numpy.max(a_2d_array, axis=1) ) # max of each row"
   ]
  },
  {
   "attachments": {},
   "cell_type": "markdown",
   "metadata": {},
   "source": [
    "applying an operation **along an axis** means setting the axis to `:`, i.e., \n",
    "1. creating subarrays using all index (end-to-end slicing) in that axis, \n",
    "2. then applying the operation on each of the subarrays, and \n",
    "3. finally concatenating the results. "
   ]
  },
  {
   "cell_type": "code",
   "execution_count": 8,
   "metadata": {},
   "outputs": [
    {
     "name": "stdout",
     "output_type": "stream",
     "text": [
      "[[5 6]\n",
      " [7 8]]\n",
      "[[3 4]\n",
      " [7 8]]\n",
      "[[2 4]\n",
      " [6 8]]\n"
     ]
    }
   ],
   "source": [
    "# Remember this example earlier? \n",
    "a=numpy.array(\n",
    "    [\n",
    "        [\n",
    "            [1,2], \n",
    "            [3,4]\n",
    "        ], \n",
    "        [\n",
    "            [5,6],\n",
    "            [7,8]\n",
    "        ]\n",
    "    ]\n",
    ")\n",
    "\n",
    "print (numpy.max(a, axis=0)) # max of each 2x2 sub-array\n",
    "print (numpy.max(a, axis=1)) # max of each 2-element row\n",
    "print (numpy.max(a, axis=2)) # max of each 2-element column"
   ]
  },
  {
   "cell_type": "code",
   "execution_count": 9,
   "metadata": {},
   "outputs": [
    {
     "name": "stdout",
     "output_type": "stream",
     "text": [
      "[[5, 6], [7, 8]]\n",
      "[[3, 4], [7, 8]]\n",
      "[[2, 4], [6, 8]]\n"
     ]
    }
   ],
   "source": [
    "# The equivalants of the above are:\n",
    "print (\n",
    "    [\n",
    "        [ max(a[:, axis_1_id, axis_2_id]) \n",
    "         for axis_2_id in range(a.shape[2]) ]\n",
    "            for axis_1_id in range(a.shape[1])                  \n",
    "    ]\n",
    ")\n",
    "\n",
    "print (\n",
    "    [\n",
    "        [ max(a[axis_0_id, :, axis_2_id]) \n",
    "            for axis_2_id in range(a.shape[2]) ] \n",
    "                for axis_0_id in range(a.shape[0]) \n",
    "    ]\n",
    ")\n",
    "\n",
    "print (\n",
    "    [\n",
    "        [ max(a[axis_0_id, axis_1_id, :]) \n",
    "            for axis_1_id in range(a.shape[1]) ] \n",
    "                for axis_0_id in range(a.shape[0]) \n",
    "    ]\n",
    ")"
   ]
  },
  {
   "attachments": {},
   "cell_type": "markdown",
   "metadata": {},
   "source": [
    "## map and reduce \n",
    "A related topic is map-reduce"
   ]
  },
  {
   "cell_type": "code",
   "execution_count": 10,
   "metadata": {},
   "outputs": [
    {
     "name": "stdout",
     "output_type": "stream",
     "text": [
      "[0, 1, 4, 9, 16]\n",
      "[1, 4, 9, 16, 25]\n"
     ]
    }
   ],
   "source": [
    "def sqrt(a):\n",
    "    return a**2 \n",
    "\n",
    "print ( [  sqrt(x)    for x in range(5)   ] )\n",
    "\n",
    "print (list( map(sqrt, [1,2,3, 4, 5]) ))"
   ]
  },
  {
   "cell_type": "code",
   "execution_count": 11,
   "metadata": {},
   "outputs": [
    {
     "name": "stdout",
     "output_type": "stream",
     "text": [
      "10\n",
      "(((1, 2), 3), 4)\n"
     ]
    }
   ],
   "source": [
    "def plus(a,b): \n",
    "    return a+b\n",
    "\n",
    "import functools \n",
    "print (functools.reduce (plus,  [1,2,3,4]))\n",
    "print (functools.reduce (lambda x, y: (x,y) ,  [1,2,3,4]))"
   ]
  },
  {
   "attachments": {},
   "cell_type": "markdown",
   "metadata": {},
   "source": [
    "Applying an operation along an axis basically is mapping the operation on all subarrays obtained from slicing along that axis. \n",
    "\n",
    "Map allows easy parallelism: "
   ]
  },
  {
   "cell_type": "code",
   "execution_count": 12,
   "metadata": {},
   "outputs": [
    {
     "name": "stdout",
     "output_type": "stream",
     "text": [
      "4.003973722457886\n",
      "3.0401740074157715\n"
     ]
    }
   ],
   "source": [
    "import time \n",
    "def foo(x):\n",
    "    for _ in range(x):\n",
    "        time.sleep(1) # sleep for 1 second\n",
    "    return None \n",
    "\n",
    "x= 4\n",
    "\n",
    "# time the execution of foo(x)\n",
    "start_time = time.time()\n",
    "foo(x)\n",
    "print (time.time() - start_time)\n",
    "\n",
    "import multiprocessing\n",
    "\n",
    "# time the parallel version of foo(x)\n",
    "start_time = time.time()\n",
    "with multiprocessing.Pool() as p:\n",
    "    p.map(foo, range(x))\n",
    "print (time.time() - start_time)"
   ]
  },
  {
   "attachments": {},
   "cell_type": "markdown",
   "metadata": {},
   "source": [
    "## Multiplications: vector-to-vector, vector-to-matrix, matrix-to-matrix\n",
    "\n",
    "Actually there is no such a thing called a vector or a matrix in numpy. A vector is just a 1-D numpy array while a matrix is just a 2-D numpy array. "
   ]
  },
  {
   "cell_type": "code",
   "execution_count": 13,
   "metadata": {},
   "outputs": [
    {
     "name": "stdout",
     "output_type": "stream",
     "text": [
      "130\n",
      "130\n",
      "[ 6 14 24 36 50]\n"
     ]
    }
   ],
   "source": [
    "a_vector = numpy.array([1,2,3,4,5])\n",
    "another_vector = numpy.array([6,7,8,9,10])\n",
    "\n",
    "# dot product between two vectors\n",
    "print (numpy.dot(a_vector, another_vector))\n",
    "\n",
    "# alternatively, we can use the @ operator\n",
    "print (a_vector @ another_vector)\n",
    "\n",
    "# another multplication is called hadamard product\n",
    "# which is element-wise multiplication\n",
    "print (a_vector * another_vector)\n",
    "\n",
    "# in this class, we do not discuss cross product"
   ]
  },
  {
   "cell_type": "code",
   "execution_count": 14,
   "metadata": {},
   "outputs": [
    {
     "name": "stdout",
     "output_type": "stream",
     "text": [
      "[14 32 50]\n",
      "[14 32 50]\n",
      "[14 32 50]\n",
      "[30 36 42]\n",
      "[30 36 42]\n",
      "[30 36 42]\n"
     ]
    }
   ],
   "source": [
    "a_matrix = numpy.array([[1,2,3], [4,5,6], [7,8,9]])\n",
    "a_vector = numpy.array([1,2,3])\n",
    "\n",
    "# matrix-vector multiplication\n",
    "print (a_matrix @ a_vector)\n",
    "# what is does is:\n",
    "# 1*1 + 2*2 + 3*3 = 14\n",
    "# 4*1 + 5*2 + 6*3 = 32\n",
    "# 7*1 + 8*2 + 9*3 = 50\n",
    "\n",
    "# alternatively, we can use matmul\n",
    "print (numpy.matmul(a_matrix, a_vector))\n",
    "\n",
    "# what about dot?\n",
    "print (numpy.dot(a_matrix, a_vector))\n",
    "\n",
    "# vector-matrix multiplication\n",
    "print (a_vector @ a_matrix)\n",
    "# what is does is:\n",
    "# 1*1 + 2*4 + 3*7 = 30\n",
    "# 1*2 + 2*5 + 3*8 = 36\n",
    "# 1*3 + 2*6 + 3*9 = 42\n",
    "\n",
    "# let's try matmul and dot too\n",
    "print (numpy.matmul(a_vector, a_matrix))\n",
    "print (numpy.dot(a_vector, a_matrix))"
   ]
  },
  {
   "attachments": {},
   "cell_type": "markdown",
   "metadata": {},
   "source": [
    "In the second case, `a_matrix` is treated as a matrix -- it is sliced column-wisely. \n",
    "What about the first case? **Broadcasting** happened. To be discussed later. \n",
    "\n",
    "`@` is a place holder for `matmul`, which stands for matrix multiplication. \n",
    "\n",
    "`matmul` and `dot` are the same for 2D numpy arrays (even 1D), although they differ for dimensions higher than 2. If you are interested, read [this](https://stackoverflow.com/questions/34142485/difference-between-numpy-dot-and-python-3-5-matrix-multiplication)"
   ]
  },
  {
   "cell_type": "code",
   "execution_count": 15,
   "metadata": {},
   "outputs": [
    {
     "name": "stdout",
     "output_type": "stream",
     "text": [
      "[14 32 50 68]\n",
      "[[14]\n",
      " [32]\n",
      " [50]\n",
      " [68]]\n",
      "[[1]\n",
      " [2]\n",
      " [3]]\n"
     ]
    },
    {
     "ename": "ValueError",
     "evalue": "matmul: Input operand 1 has a mismatch in its core dimension 0, with gufunc signature (n?,k),(k,m?)->(n?,m?) (size 4 is different from 3)",
     "output_type": "error",
     "traceback": [
      "\u001b[0;31m---------------------------------------------------------------------------\u001b[0m",
      "\u001b[0;31mValueError\u001b[0m                                Traceback (most recent call last)",
      "\u001b[1;32m/home/forrest/Dropbox/teaching/MLClass/2_Linear_Classifiers/numpy.ipynb Cell 28\u001b[0m in \u001b[0;36m<cell line: 11>\u001b[0;34m()\u001b[0m\n\u001b[1;32m      <a href='vscode-notebook-cell:/home/forrest/Dropbox/teaching/MLClass/2_Linear_Classifiers/numpy.ipynb#X36sZmlsZQ%3D%3D?line=7'>8</a>\u001b[0m \u001b[39mprint\u001b[39m (b_vector\u001b[39m.\u001b[39mreshape(\u001b[39m3\u001b[39m, \u001b[39m1\u001b[39m))\n\u001b[1;32m     <a href='vscode-notebook-cell:/home/forrest/Dropbox/teaching/MLClass/2_Linear_Classifiers/numpy.ipynb#X36sZmlsZQ%3D%3D?line=9'>10</a>\u001b[0m \u001b[39m# an error is expected here because of shape mismatch\u001b[39;00m\n\u001b[0;32m---> <a href='vscode-notebook-cell:/home/forrest/Dropbox/teaching/MLClass/2_Linear_Classifiers/numpy.ipynb#X36sZmlsZQ%3D%3D?line=10'>11</a>\u001b[0m \u001b[39mprint\u001b[39m (b_vector \u001b[39m@\u001b[39;49m b_matrix)\n",
      "\u001b[0;31mValueError\u001b[0m: matmul: Input operand 1 has a mismatch in its core dimension 0, with gufunc signature (n?,k),(k,m?)->(n?,m?) (size 4 is different from 3)"
     ]
    }
   ],
   "source": [
    "# Let's make sure its really doing what it should be doing\n",
    "b_matrix = numpy.array([[1,2,3], [4,5,6], [7,8,9], [10,11,12]])\n",
    "b_vector = numpy.array([1,2,3])\n",
    "\n",
    "print (b_matrix @ b_vector) \n",
    "# thanks to broadcasting, this is the same as: (Copilot wrote this!!!)\n",
    "print (b_matrix @ b_vector.reshape(3,1))\n",
    "print (b_vector.reshape(3, 1))\n",
    "\n",
    "# an error is expected here because of shape mismatch\n",
    "print (b_vector @ b_matrix)"
   ]
  },
  {
   "cell_type": "code",
   "execution_count": 23,
   "metadata": {},
   "outputs": [
    {
     "name": "stdout",
     "output_type": "stream",
     "text": [
      "[[2. 1. 0.]\n",
      " [1. 2. 1.]\n",
      " [0. 1. 2.]]\n",
      "[[ 4.  8.  8.]\n",
      " [13. 20. 17.]\n",
      " [22. 32. 26.]]\n",
      "[[ 6.  9. 12.]\n",
      " [16. 20. 24.]\n",
      " [18. 21. 24.]]\n"
     ]
    }
   ],
   "source": [
    "# finally, matrix-to-matrix multiplication\n",
    "\n",
    "a_matrix = numpy.array([[1,2,3], [4,5,6], [7,8,9]])\n",
    "b_matrix = numpy.eye(3) + numpy.array([[1,1,0], [1,1,1], [0,1,1]])\n",
    "print (b_matrix)\n",
    "print (a_matrix @ b_matrix)\n",
    "# what is does is:\n",
    "# does GPT really understand math or code? \n",
    "\n",
    "print (b_matrix @ a_matrix)"
   ]
  },
  {
   "attachments": {},
   "cell_type": "markdown",
   "metadata": {},
   "source": [
    "Reading: https://stackoverflow.com/questions/21562986/numpy-matrix-vector-multiplication"
   ]
  },
  {
   "attachments": {},
   "cell_type": "markdown",
   "metadata": {},
   "source": [
    "## Broadcasting "
   ]
  },
  {
   "cell_type": "code",
   "execution_count": null,
   "metadata": {},
   "outputs": [
    {
     "name": "stdout",
     "output_type": "stream",
     "text": [
      "[0 1 2]\n"
     ]
    }
   ],
   "source": [
    "a_vector = numpy.array([1,2,3])\n",
    "print (a_vector - 1 ) "
   ]
  },
  {
   "attachments": {},
   "cell_type": "markdown",
   "metadata": {},
   "source": [
    "Wow! We have seen broadcasting above not long ago. To know more, not required, please read [this](https://numpy.org/doc/stable/user/basics.broadcasting.html). \n",
    "\n",
    "Broadcasting can be really useful, e.g., in HW2. "
   ]
  },
  {
   "cell_type": "code",
   "execution_count": null,
   "metadata": {},
   "outputs": [
    {
     "name": "stdout",
     "output_type": "stream",
     "text": [
      "[[ 4  5  6]\n",
      " [ 7  8  9]\n",
      " [13 14 15]\n",
      " [16 17 18]]\n"
     ]
    }
   ],
   "source": [
    "y = numpy.array([-1, 1, 1, -1, 1, 1])\n",
    "X = numpy.array(\n",
    "    [\n",
    "        [1,2,3],\n",
    "        [4,5,6],\n",
    "        [7,8,9],\n",
    "        [10,11,12],\n",
    "        [13,14,15],\n",
    "        [16,17,18]\n",
    "    ]\n",
    ")\n",
    "\n",
    "# let's find out X rows where y value is 1 \n",
    "print (X[y==1]) # the operator == is broadcasted to each element of y"
   ]
  },
  {
   "attachments": {},
   "cell_type": "markdown",
   "metadata": {},
   "source": [
    "## Basic linear algebra operations in Numpy"
   ]
  },
  {
   "cell_type": "code",
   "execution_count": null,
   "metadata": {},
   "outputs": [
    {
     "name": "stdout",
     "output_type": "stream",
     "text": [
      "[1 2 3]\n",
      "[1 2 3]\n"
     ]
    }
   ],
   "source": [
    "# transpose a vector\n",
    "a_vector = numpy.array([1,2,3])\n",
    "print (a_vector)\n",
    "print (a_vector.T)"
   ]
  },
  {
   "attachments": {},
   "cell_type": "markdown",
   "metadata": {},
   "source": [
    "Why no difference? Because 1-D array cannot be transposed. Transposing an n-D array means swapping the two axis. "
   ]
  },
  {
   "cell_type": "code",
   "execution_count": null,
   "metadata": {},
   "outputs": [
    {
     "name": "stdout",
     "output_type": "stream",
     "text": [
      "[[1 2 3]\n",
      " [4 5 6]\n",
      " [7 8 9]]\n",
      "[[1 4 7]\n",
      " [2 5 8]\n",
      " [3 6 9]]\n"
     ]
    }
   ],
   "source": [
    "# transpose a matrix\n",
    "a_matrix = numpy.array([[1,2,3], [4,5,6], [7,8,9]])\n",
    "print (a_matrix)\n",
    "print (a_matrix.T)"
   ]
  },
  {
   "attachments": {},
   "cell_type": "markdown",
   "metadata": {},
   "source": [
    "## Inverse of a matrix "
   ]
  },
  {
   "cell_type": "code",
   "execution_count": null,
   "metadata": {},
   "outputs": [
    {
     "name": "stdout",
     "output_type": "stream",
     "text": [
      "[[1 2 3]\n",
      " [4 5 6]\n",
      " [7 8 9]]\n",
      "0.0\n"
     ]
    },
    {
     "ename": "LinAlgError",
     "evalue": "Singular matrix",
     "output_type": "error",
     "traceback": [
      "\u001b[0;31m---------------------------------------------------------------------------\u001b[0m",
      "\u001b[0;31mLinAlgError\u001b[0m                               Traceback (most recent call last)",
      "\u001b[1;32m/home/forrest/Dropbox/teaching/MLClass/2_Linear_Classifiers/numpy.ipynb Cell 37\u001b[0m in \u001b[0;36m<cell line: 4>\u001b[0;34m()\u001b[0m\n\u001b[1;32m      <a href='vscode-notebook-cell:/home/forrest/Dropbox/teaching/MLClass/2_Linear_Classifiers/numpy.ipynb#X62sZmlsZQ%3D%3D?line=1'>2</a>\u001b[0m \u001b[39mprint\u001b[39m (a_matrix)\n\u001b[1;32m      <a href='vscode-notebook-cell:/home/forrest/Dropbox/teaching/MLClass/2_Linear_Classifiers/numpy.ipynb#X62sZmlsZQ%3D%3D?line=2'>3</a>\u001b[0m \u001b[39mprint\u001b[39m (numpy\u001b[39m.\u001b[39mlinalg\u001b[39m.\u001b[39mdet(a_matrix))\n\u001b[0;32m----> <a href='vscode-notebook-cell:/home/forrest/Dropbox/teaching/MLClass/2_Linear_Classifiers/numpy.ipynb#X62sZmlsZQ%3D%3D?line=3'>4</a>\u001b[0m \u001b[39mprint\u001b[39m (numpy\u001b[39m.\u001b[39;49mlinalg\u001b[39m.\u001b[39;49minv(a_matrix))\n",
      "File \u001b[0;32m<__array_function__ internals>:180\u001b[0m, in \u001b[0;36minv\u001b[0;34m(*args, **kwargs)\u001b[0m\n",
      "File \u001b[0;32m~/.local/lib/python3.10/site-packages/numpy/linalg/linalg.py:552\u001b[0m, in \u001b[0;36minv\u001b[0;34m(a)\u001b[0m\n\u001b[1;32m    550\u001b[0m signature \u001b[39m=\u001b[39m \u001b[39m'\u001b[39m\u001b[39mD->D\u001b[39m\u001b[39m'\u001b[39m \u001b[39mif\u001b[39;00m isComplexType(t) \u001b[39melse\u001b[39;00m \u001b[39m'\u001b[39m\u001b[39md->d\u001b[39m\u001b[39m'\u001b[39m\n\u001b[1;32m    551\u001b[0m extobj \u001b[39m=\u001b[39m get_linalg_error_extobj(_raise_linalgerror_singular)\n\u001b[0;32m--> 552\u001b[0m ainv \u001b[39m=\u001b[39m _umath_linalg\u001b[39m.\u001b[39;49minv(a, signature\u001b[39m=\u001b[39;49msignature, extobj\u001b[39m=\u001b[39;49mextobj)\n\u001b[1;32m    553\u001b[0m \u001b[39mreturn\u001b[39;00m wrap(ainv\u001b[39m.\u001b[39mastype(result_t, copy\u001b[39m=\u001b[39m\u001b[39mFalse\u001b[39;00m))\n",
      "File \u001b[0;32m~/.local/lib/python3.10/site-packages/numpy/linalg/linalg.py:89\u001b[0m, in \u001b[0;36m_raise_linalgerror_singular\u001b[0;34m(err, flag)\u001b[0m\n\u001b[1;32m     88\u001b[0m \u001b[39mdef\u001b[39;00m \u001b[39m_raise_linalgerror_singular\u001b[39m(err, flag):\n\u001b[0;32m---> 89\u001b[0m     \u001b[39mraise\u001b[39;00m LinAlgError(\u001b[39m\"\u001b[39m\u001b[39mSingular matrix\u001b[39m\u001b[39m\"\u001b[39m)\n",
      "\u001b[0;31mLinAlgError\u001b[0m: Singular matrix"
     ]
    }
   ],
   "source": [
    "a_matrix = numpy.array([[1,2,3], [4,5,6], [7,8,9]])\n",
    "print (a_matrix)\n",
    "print (numpy.linalg.det(a_matrix))\n",
    "print (numpy.linalg.inv(a_matrix))"
   ]
  },
  {
   "attachments": {},
   "cell_type": "markdown",
   "metadata": {},
   "source": [
    "Why the error? Singularity! "
   ]
  },
  {
   "cell_type": "code",
   "execution_count": null,
   "metadata": {},
   "outputs": [
    {
     "name": "stdout",
     "output_type": "stream",
     "text": [
      "[[-0.77777778  0.22222222  0.11111111]\n",
      " [ 0.44444444 -0.55555556  0.22222222]\n",
      " [ 0.2962963   0.2962963  -0.18518519]]\n",
      "[[1.00000000e+00 0.00000000e+00 5.55111512e-17]\n",
      " [2.22044605e-16 1.00000000e+00 1.11022302e-16]\n",
      " [4.44089210e-16 0.00000000e+00 1.00000000e+00]]\n"
     ]
    }
   ],
   "source": [
    "a_matrix = numpy.array([[1,2,3], [4,3,6], [8,8,9]])\n",
    "\n",
    "# Getting the inverse of a_matrix \n",
    "print (numpy.linalg.inv(a_matrix))\n",
    "\n",
    "# check it's really the inverse \n",
    "print (a_matrix @ numpy.linalg.inv(a_matrix))\n"
   ]
  },
  {
   "attachments": {},
   "cell_type": "markdown",
   "metadata": {},
   "source": [
    "Why is it not absolutely an identity matrix?  Computational error. \n",
    "\n",
    "So how to check whether two matrixes are numerically equal? "
   ]
  },
  {
   "cell_type": "code",
   "execution_count": null,
   "metadata": {},
   "outputs": [
    {
     "name": "stdout",
     "output_type": "stream",
     "text": [
      "[[ True  True  True]\n",
      " [ True  True  True]\n",
      " [ True  True  True]]\n",
      "True\n"
     ]
    }
   ],
   "source": [
    "print (\n",
    "    numpy.isclose(\n",
    "        a_matrix @ numpy.linalg.inv(a_matrix),\n",
    "        numpy.eye(3)\n",
    "    )\n",
    ")\n",
    "\n",
    "print (\n",
    "    numpy.allclose( \n",
    "        a_matrix @ numpy.linalg.inv(a_matrix),\n",
    "        numpy.eye(3)\n",
    "    )\n",
    ")"
   ]
  },
  {
   "attachments": {},
   "cell_type": "markdown",
   "metadata": {},
   "source": [
    "## Ravel, squeeze, and reshape: changing the shape of arrays"
   ]
  },
  {
   "cell_type": "code",
   "execution_count": null,
   "metadata": {},
   "outputs": [
    {
     "name": "stdout",
     "output_type": "stream",
     "text": [
      "[[1 2 3]\n",
      " [4 5 6]\n",
      " [7 8 9]]\n",
      "[1 2 3 4 5 6 7 8 9]\n"
     ]
    }
   ],
   "source": [
    "# an example of numpy ravel \n",
    "a_matrix = numpy.array([[1,2,3], [4,5,6], [7,8,9]])\n",
    "print (a_matrix)\n",
    "print (a_matrix.ravel())"
   ]
  },
  {
   "cell_type": "code",
   "execution_count": null,
   "metadata": {},
   "outputs": [
    {
     "name": "stdout",
     "output_type": "stream",
     "text": [
      "[[1 2 3]\n",
      " [4 5 6]\n",
      " [7 8 9]]\n",
      "[[1 2 3 4 5 6 7 8 9]]\n",
      "[[1]\n",
      " [2]\n",
      " [3]\n",
      " [4]\n",
      " [5]\n",
      " [6]\n",
      " [7]\n",
      " [8]\n",
      " [9]]\n"
     ]
    }
   ],
   "source": [
    "# an example of numpy reshape\n",
    "a_vector = numpy.array([1,2,3,4,5,6,7,8,9])\n",
    "print (a_vector.reshape(3,3))\n",
    "print (a_vector.reshape(1,-1)) # -1 means \"whatever is needed\", \n",
    " # thus reshape(1, -1) means reshaping to one row and whatever number of columns\n",
    "print (a_vector.reshape(-1,1)) # means reshaping to one column and whatever number of rows"
   ]
  },
  {
   "attachments": {},
   "cell_type": "markdown",
   "metadata": {},
   "source": [
    "You can reshape an array of any dimensions "
   ]
  },
  {
   "cell_type": "code",
   "execution_count": null,
   "metadata": {},
   "outputs": [
    {
     "name": "stdout",
     "output_type": "stream",
     "text": [
      "[[0 1 2 3]\n",
      " [4 5 6 7]]\n",
      "[[0 1]\n",
      " [2 3]\n",
      " [4 5]\n",
      " [6 7]]\n"
     ]
    }
   ],
   "source": [
    "# reshape a 2D array\n",
    "a_matrix = numpy.array(range(8))\n",
    "print (a_matrix.reshape(2,4))\n",
    "print (a_matrix.reshape(2,4).reshape(4,2))"
   ]
  },
  {
   "attachments": {},
   "cell_type": "markdown",
   "metadata": {},
   "source": [
    "You can even use reshape to increase dimensions. Actually `reshape(1,-1)` and `reshape(-1,1)` are special cases of dimension increase. "
   ]
  },
  {
   "cell_type": "code",
   "execution_count": null,
   "metadata": {},
   "outputs": [
    {
     "name": "stdout",
     "output_type": "stream",
     "text": [
      "[[ 0  1  2  3  4  5  6  7]\n",
      " [ 8  9 10 11 12 13 14 15]]\n",
      "[[[ 0  1]\n",
      "  [ 2  3]\n",
      "  [ 4  5]\n",
      "  [ 6  7]]\n",
      "\n",
      " [[ 8  9]\n",
      "  [10 11]\n",
      "  [12 13]\n",
      "  [14 15]]]\n"
     ]
    }
   ],
   "source": [
    "# reshape a 2D array\n",
    "a_matrix = numpy.array(range(16))\n",
    "print (a_matrix.reshape(2,8))\n",
    "print (a_matrix.reshape(2,8).reshape(2,4,2))"
   ]
  },
  {
   "cell_type": "code",
   "execution_count": 17,
   "metadata": {},
   "outputs": [
    {
     "name": "stdout",
     "output_type": "stream",
     "text": [
      "[[[[ 0]\n",
      "   [ 1]\n",
      "   [ 2]\n",
      "   [ 3]\n",
      "   [ 4]\n",
      "   [ 5]\n",
      "   [ 6]\n",
      "   [ 7]]]\n",
      "\n",
      "\n",
      " [[[ 8]\n",
      "   [ 9]\n",
      "   [10]\n",
      "   [11]\n",
      "   [12]\n",
      "   [13]\n",
      "   [14]\n",
      "   [15]]]]\n",
      "[[ 0  1  2  3  4  5  6  7]\n",
      " [ 8  9 10 11 12 13 14 15]]\n"
     ]
    }
   ],
   "source": [
    "# Squeeze will \"remove\" all dimensions that is of shape 1 \n",
    "a_matrix = numpy.array(range(16))\n",
    "print (a_matrix.reshape(2,1, 8,1))\n",
    "print (a_matrix.reshape(2,1, 8,1).squeeze())\n"
   ]
  },
  {
   "cell_type": "markdown",
   "metadata": {},
   "source": [
    "## Stack "
   ]
  },
  {
   "cell_type": "code",
   "execution_count": null,
   "metadata": {},
   "outputs": [
    {
     "name": "stdout",
     "output_type": "stream",
     "text": [
      "[[ 1  2  3]\n",
      " [ 4  5  6]\n",
      " [ 7  8  9]\n",
      " [ 2  4  6]\n",
      " [ 8 10 12]\n",
      " [14 16 18]]\n",
      "[[ 1  2  3  2  4  6]\n",
      " [ 4  5  6  8 10 12]\n",
      " [ 7  8  9 14 16 18]]\n",
      "[[ 1  2  3]\n",
      " [ 4  5  6]\n",
      " [ 7  8  9]\n",
      " [ 2  4  6]\n",
      " [ 8 10 12]\n",
      " [14 16 18]]\n",
      "[[[ 1  2  3]\n",
      "  [ 4  5  6]\n",
      "  [ 7  8  9]]\n",
      "\n",
      " [[ 2  4  6]\n",
      "  [ 8 10 12]\n",
      "  [14 16 18]]]\n"
     ]
    }
   ],
   "source": [
    "# a 2D numpy array\n",
    "a_matrix = numpy.array([[1,2,3], [4,5,6], [7,8,9]])\n",
    "b_matrix = a_matrix * 2 \n",
    "\n",
    "# vertically stack two matrices\n",
    "print (numpy.vstack((a_matrix, b_matrix)))\n",
    "\n",
    "# horizontally stack two matrices\n",
    "print (numpy.hstack((a_matrix, b_matrix)))\n",
    "\n",
    "# which are equivalent to numpy.concatenate\n",
    "print (numpy.concatenate((a_matrix, b_matrix), axis=0))\n",
    "\n",
    "# numpy.stack is slightly different, \n",
    "# which will increase on dimension along the axis in which the stacking happens\n",
    "print (numpy.stack((a_matrix, b_matrix), axis=0)) "
   ]
  },
  {
   "attachments": {},
   "cell_type": "markdown",
   "metadata": {},
   "source": [
    "## The Einstein notation\n",
    "\n",
    "See https://app.codepod.io/repo/gx4t5ckk5r0t56httfxp"
   ]
  },
  {
   "cell_type": "code",
   "execution_count": null,
   "metadata": {},
   "outputs": [],
   "source": []
  }
 ],
 "metadata": {
  "kernelspec": {
   "display_name": "Python 3",
   "language": "python",
   "name": "python3"
  },
  "language_info": {
   "codemirror_mode": {
    "name": "ipython",
    "version": 3
   },
   "file_extension": ".py",
   "mimetype": "text/x-python",
   "name": "python",
   "nbconvert_exporter": "python",
   "pygments_lexer": "ipython3",
   "version": "3.10.6"
  },
  "orig_nbformat": 4,
  "vscode": {
   "interpreter": {
    "hash": "916dbcbb3f70747c44a77c7bcd40155683ae19c65e1c03b4aa3499c5328201f1"
   }
  }
 },
 "nbformat": 4,
 "nbformat_minor": 2
}
